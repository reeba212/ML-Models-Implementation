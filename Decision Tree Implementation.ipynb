{
 "cells": [
  {
   "cell_type": "code",
   "execution_count": 347,
   "id": "1fdf5afb",
   "metadata": {},
   "outputs": [],
   "source": [
    "import numpy as np\n",
    "import pandas as pd\n",
    "from sklearn import datasets\n",
    "iris=datasets.load_iris()\n",
    "names=iris.target_names\n",
    "columns=iris.feature_names\n",
    "x = np.array(iris.data, dtype = float)\n",
    "y = np.array(iris.target, dtype = float)\n",
    "x=x.tolist()\n",
    "for rows in x:\n",
    "    if type(rows).__module__ == np.__name__:\n",
    "        rows=rows.tolist()\n",
    "idx=0\n",
    "for i in x:\n",
    "    i.append(y[idx])\n",
    "    idx+=1"
   ]
  },
  {
   "cell_type": "code",
   "execution_count": 339,
   "id": "310586b1",
   "metadata": {},
   "outputs": [
    {
     "data": {
      "text/plain": [
       "{0.0: 50, 1.0: 50, 2.0: 50}"
      ]
     },
     "execution_count": 339,
     "metadata": {},
     "output_type": "execute_result"
    }
   ],
   "source": [
    "def class_count(rows,idx=0): #for counting total number of each example in the dataset\n",
    "    count={}\n",
    "    for row in rows:\n",
    "        example=row[-1]\n",
    "        if example not in count:\n",
    "            count[example]=1\n",
    "        else:\n",
    "            count[example]+=1\n",
    "        idx+=1\n",
    "    return count\n",
    "\n",
    "class_count(x)"
   ]
  },
  {
   "cell_type": "code",
   "execution_count": 340,
   "id": "648c80f1",
   "metadata": {},
   "outputs": [
    {
     "data": {
      "text/plain": [
       "0.6666666666666667"
      ]
     },
     "execution_count": 340,
     "metadata": {},
     "output_type": "execute_result"
    }
   ],
   "source": [
    "def gini_impurity(rows): #for calculating gini impurity at one level\n",
    "    count=class_count(rows)\n",
    "    gini_impurity=0\n",
    "    for example in count:\n",
    "        prob_of_example=count[example]/sum(list(count.values()))\n",
    "        gini_impurity+=(prob_of_example)**2\n",
    "    gini_impurity=1-gini_impurity\n",
    "    return gini_impurity   \n",
    "gini_impurity(x)"
   ]
  },
  {
   "cell_type": "code",
   "execution_count": 341,
   "id": "b990d5f5",
   "metadata": {},
   "outputs": [],
   "source": [
    "def gini_split(left,right,curr_gini_impurity): #for calculating the info gain after splitting into child nodes\n",
    "    p=float(len(left)/(len(left)+len(right)))\n",
    "    gini_split=(curr_gini_impurity)-p*(gini_impurity(left))-(1-p)*(gini_impurity(right))    \n",
    "    return gini_split"
   ]
  },
  {
   "cell_type": "code",
   "execution_count": 342,
   "id": "fee9b967",
   "metadata": {},
   "outputs": [],
   "source": [
    "def partition(rows,feature,value): #partitioning dataset on basis of a feature\n",
    "    true_rows=[]\n",
    "    false_rows=[]\n",
    "    idx=columns.index(feature)\n",
    "    for row in rows:\n",
    "        if row[idx]>value:\n",
    "            true_rows.append(row)\n",
    "        else:\n",
    "            false_rows.append(row)\n",
    "    return true_rows,false_rows\n"
   ]
  },
  {
   "cell_type": "code",
   "execution_count": 343,
   "id": "b134cfca",
   "metadata": {},
   "outputs": [
    {
     "data": {
      "text/plain": [
       "(0.3333333333333334, 'petal length (cm)', 1.9)"
      ]
     },
     "execution_count": 343,
     "metadata": {},
     "output_type": "execute_result"
    }
   ],
   "source": [
    "def get_best_feature(rows):\n",
    "    best_gini=0\n",
    "    best_feature=None\n",
    "    best_feature_val=0\n",
    "    curr_gini=gini(rows)\n",
    "    n_features=len(columns)\n",
    "    for col in columns: #for each column\n",
    "        idx=columns.index(col)\n",
    "        values=set((row[idx]) for row in rows) #unique values in a column\n",
    "        for val in values: #for each value\n",
    "            true,false=partition(rows,col,val) #splitting the data\n",
    "            if len(true)==0 or len(false)==0: #skipping this split if it doesn't divide the data\n",
    "                continue\n",
    "            gini_split_val=gini_split(true,false,curr_gini)\n",
    "            if gini_split_val>best_gini:\n",
    "                best_gini=gini_split_val\n",
    "                best_feature=col\n",
    "                best_feature_val=val\n",
    "    return best_gini,best_feature,best_feature_val\n",
    "get_best_feature(x)\n"
   ]
  },
  {
   "cell_type": "code",
   "execution_count": 344,
   "id": "4193dcd1",
   "metadata": {},
   "outputs": [],
   "source": [
    "class Leaf:\n",
    "    def __init__(self,rows):\n",
    "        self.predictions=class_count(rows)\n",
    "\n",
    "class Decision_Node:\n",
    "    def __init__(self,feature,val,left,right):\n",
    "        self.feature=feature\n",
    "        self.val=val\n",
    "        self.left=left\n",
    "        self.right=right"
   ]
  },
  {
   "cell_type": "code",
   "execution_count": 350,
   "id": "7e790c56",
   "metadata": {},
   "outputs": [],
   "source": [
    "def build_tree(rows,level=0):\n",
    "    print('Level ',level)\n",
    "    curr_count=class_count(rows)\n",
    "    curr_gini=gini_impurity(rows)\n",
    "    gini_change,feature,val=get_best_feature(rows)\n",
    "    print('Current gini impurity is: ',curr_gini)\n",
    "    if gini_change==0:\n",
    "        print('Reached leaf node')\n",
    "        for i in curr_count:\n",
    "            print('Count of ',i,': ',curr_count[i])\n",
    "        return Leaf(rows)\n",
    "    #print('Splitting on feature: ',feature,' with change in gini impurity: ',gini_change)\n",
    "    print(feature,'>',val,'?')\n",
    "    for i in curr_count:\n",
    "        print('Count of ',i,': ',curr_count[i])\n",
    "    left,right=partition(rows,feature,val)\n",
    "    left_branch=build_tree(left,level+1)\n",
    "    right_branch=build_tree(right,level+1)\n",
    "    return Decision_Node(feature,val,left_branch,right_branch)\n"
   ]
  },
  {
   "cell_type": "code",
   "execution_count": 351,
   "id": "52b3fe3a",
   "metadata": {},
   "outputs": [
    {
     "name": "stdout",
     "output_type": "stream",
     "text": [
      "Level  0\n",
      "Current gini impurity is:  0.6666666666666667\n",
      "petal length (cm) > 1.9 ?\n",
      "Count of  0.0 :  50\n",
      "Count of  1.0 :  50\n",
      "Count of  2.0 :  50\n",
      "Level  1\n",
      "Current gini impurity is:  0.5\n",
      "petal width (cm) > 1.7 ?\n",
      "Count of  1.0 :  50\n",
      "Count of  2.0 :  50\n",
      "Level  2\n",
      "Current gini impurity is:  0.04253308128544431\n",
      "petal length (cm) > 4.8 ?\n",
      "Count of  1.0 :  1\n",
      "Count of  2.0 :  45\n",
      "Level  3\n",
      "Current gini impurity is:  0.0\n",
      "Reached leaf node\n",
      "Count of  2.0 :  43\n",
      "Level  3\n",
      "Current gini impurity is:  0.4444444444444444\n",
      "sepal length (cm) > 5.9 ?\n",
      "Count of  1.0 :  1\n",
      "Count of  2.0 :  2\n",
      "Level  4\n",
      "Current gini impurity is:  0.0\n",
      "Reached leaf node\n",
      "Count of  2.0 :  2\n",
      "Level  4\n",
      "Current gini impurity is:  0.0\n",
      "Reached leaf node\n",
      "Count of  1.0 :  1\n",
      "Level  2\n",
      "Current gini impurity is:  0.16803840877914955\n",
      "petal length (cm) > 4.9 ?\n",
      "Count of  1.0 :  49\n",
      "Count of  2.0 :  5\n",
      "Level  3\n",
      "Current gini impurity is:  0.4444444444444444\n",
      "petal width (cm) > 1.5 ?\n",
      "Count of  1.0 :  2\n",
      "Count of  2.0 :  4\n",
      "Level  4\n",
      "Current gini impurity is:  0.4444444444444444\n",
      "sepal length (cm) > 6.7 ?\n",
      "Count of  1.0 :  2\n",
      "Count of  2.0 :  1\n",
      "Level  5\n",
      "Current gini impurity is:  0.0\n",
      "Reached leaf node\n",
      "Count of  2.0 :  1\n",
      "Level  5\n",
      "Current gini impurity is:  0.0\n",
      "Reached leaf node\n",
      "Count of  1.0 :  2\n",
      "Level  4\n",
      "Current gini impurity is:  0.0\n",
      "Reached leaf node\n",
      "Count of  2.0 :  3\n",
      "Level  3\n",
      "Current gini impurity is:  0.04079861111111116\n",
      "petal width (cm) > 1.6 ?\n",
      "Count of  1.0 :  47\n",
      "Count of  2.0 :  1\n",
      "Level  4\n",
      "Current gini impurity is:  0.0\n",
      "Reached leaf node\n",
      "Count of  2.0 :  1\n",
      "Level  4\n",
      "Current gini impurity is:  0.0\n",
      "Reached leaf node\n",
      "Count of  1.0 :  47\n",
      "Level  1\n",
      "Current gini impurity is:  0.0\n",
      "Reached leaf node\n",
      "Count of  0.0 :  50\n"
     ]
    },
    {
     "data": {
      "text/plain": [
       "<__main__.Decision_Node at 0x19142d4de50>"
      ]
     },
     "execution_count": 351,
     "metadata": {},
     "output_type": "execute_result"
    }
   ],
   "source": [
    "build_tree(x)"
   ]
  },
  {
   "cell_type": "code",
   "execution_count": null,
   "id": "467ba283",
   "metadata": {},
   "outputs": [],
   "source": []
  }
 ],
 "metadata": {
  "kernelspec": {
   "display_name": "Python 3 (ipykernel)",
   "language": "python",
   "name": "python3"
  },
  "language_info": {
   "codemirror_mode": {
    "name": "ipython",
    "version": 3
   },
   "file_extension": ".py",
   "mimetype": "text/x-python",
   "name": "python",
   "nbconvert_exporter": "python",
   "pygments_lexer": "ipython3",
   "version": "3.9.2"
  }
 },
 "nbformat": 4,
 "nbformat_minor": 5
}
