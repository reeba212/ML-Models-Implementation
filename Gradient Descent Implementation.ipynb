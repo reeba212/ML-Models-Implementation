{
 "cells": [
  {
   "cell_type": "code",
   "execution_count": 1,
   "id": "6fe9a94a",
   "metadata": {},
   "outputs": [
    {
     "name": "stdout",
     "output_type": "stream",
     "text": [
      "[470.44877881 471.96637567 433.07297821 ... 439.64794906 453.04005323\n",
      " 448.15657101]\n"
     ]
    }
   ],
   "source": [
    "import numpy as np\n",
    "from sklearn.preprocessing import StandardScaler\n",
    "\n",
    "\n",
    "def step_gradient(X, Y, learning_rate, m):\n",
    "    m_slope=np.array([0 for i in range(len(X[0]))],dtype='float')\n",
    "    M=len(X)\n",
    "    for i in range(M):\n",
    "        x=X[i]\n",
    "        y=Y[i]\n",
    "        for j in range(len(m_slope)):\n",
    "            temp=((-2/M)*(y-((m*x).sum()))*x[j])\n",
    "            m_slope[j]+=temp\n",
    "    new_m=m-learning_rate*m_slope\n",
    "    x=cost(new_m, X, Y)\n",
    "    return new_m\n",
    "    \n",
    "def cost(m, X, Y):\n",
    "    cst=0\n",
    "    for i in range(len(X)):\n",
    "        cst+=(2/len(X))*(Y[i]-sum(m*X[i]))\n",
    "    return cst\n",
    "    \n",
    "    \n",
    "def gd(X, Y, iterations, learning_rate):\n",
    "    m=np.array([0 for i in range(len(X[0]))])\n",
    "    for i in range(iterations):\n",
    "        m=step_gradient(X, Y, learning_rate, m)\n",
    "    return m[:-1],m[-1]\n",
    "\n",
    "\n",
    "def run():\n",
    "    iterations=60\n",
    "    learning_rate=0.1\n",
    "    data = np.genfromtxt('Power_train.csv', delimiter=',')\n",
    "    X=data[:,:-1]\n",
    "    Y=data[:,-1]\n",
    "    X_test = np.genfromtxt('Power_test.csv', delimiter=',')\n",
    "\n",
    "    scaler=StandardScaler()\n",
    "    scaler.fit(X)\n",
    "    X=scaler.transform(X)\n",
    "    X_test=scaler.transform(X_test)\n",
    "    X=np.append(X, np.ones(len(X), dtype='int').reshape(-1, 1), axis=1)\n",
    "    m,c=gd(X, Y, iterations, learning_rate)\n",
    "    N=len(X_test)\n",
    "    y_pred=np.array([0 for i in range(N)],dtype='float')\n",
    "    for i in range (N):\n",
    "        y_pred[i]+=np.sum(m*X_test[i])+c\n",
    "    print(y_pred)\n",
    "run()"
   ]
  },
  {
   "cell_type": "code",
   "execution_count": 2,
   "id": "ae771a78",
   "metadata": {},
   "outputs": [
    {
     "data": {
      "text/plain": [
       "array([469.95711113, 471.76632733, 433.85647002, ..., 439.13871988,\n",
       "       450.65930697, 447.27281902])"
      ]
     },
     "execution_count": 2,
     "metadata": {},
     "output_type": "execute_result"
    }
   ],
   "source": [
    "from sklearn.linear_model import LinearRegression\n",
    "data = np.genfromtxt('Power_train.csv', delimiter=',')\n",
    "X=data[:,:-1]\n",
    "Y=data[:,-1]\n",
    "X_test = np.genfromtxt('Power_test.csv', delimiter=',')\n",
    "scaler=StandardScaler()\n",
    "scaler.fit(X)\n",
    "X=scaler.transform(X)\n",
    "X_test=scaler.transform(X_test)\n",
    "alg=LinearRegression()\n",
    "alg.fit(X,Y)\n",
    "y_pred=alg.predict(X_test)\n",
    "y_pred"
   ]
  }
 ],
 "metadata": {
  "kernelspec": {
   "display_name": "Python 3 (ipykernel)",
   "language": "python",
   "name": "python3"
  },
  "language_info": {
   "codemirror_mode": {
    "name": "ipython",
    "version": 3
   },
   "file_extension": ".py",
   "mimetype": "text/x-python",
   "name": "python",
   "nbconvert_exporter": "python",
   "pygments_lexer": "ipython3",
   "version": "3.9.2"
  }
 },
 "nbformat": 4,
 "nbformat_minor": 5
}
