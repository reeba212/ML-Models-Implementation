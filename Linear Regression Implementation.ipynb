{
 "cells": [
  {
   "cell_type": "code",
   "execution_count": null,
   "id": "28678d01",
   "metadata": {},
   "outputs": [],
   "source": [
    "import numpy as np\n",
    "from sklearn.preprocessing import StandardScaler\n",
    "\n",
    "\n",
    "def step_gradient(X, Y, learning_rate, m):\n",
    "    m_slope=np.array([0 for i in range(len(X[0]))],dtype='float')\n",
    "    M=len(X)\n",
    "    for i in range(M):\n",
    "        x=X[i]\n",
    "        y=Y[i]\n",
    "        for j in range(len(m_slope)):\n",
    "            temp=((-2/M)*(y-((m*x).sum()))*x[j])\n",
    "            m_slope[j]+=temp\n",
    "    new_m=m-learning_rate*m_slope\n",
    "    x=cost(new_m, X, Y)\n",
    "    return new_m\n",
    "    \n",
    "def cost(m, X, Y):\n",
    "    cst=0\n",
    "    for i in range(len(X)):\n",
    "        cst+=(2/len(X))*(Y[i]-sum(m*X[i]))\n",
    "    return cst\n",
    "    \n",
    "    \n",
    "def gd(X, Y, iterations, learning_rate):\n",
    "    m=np.array([0 for i in range(len(X[0]))])\n",
    "    for i in range(iterations):\n",
    "        m=step_gradient(X, Y, learning_rate, m)\n",
    "    return m[:-1],m[-1]\n",
    "\n",
    "\n",
    "def run():\n",
    "    iterations=60\n",
    "    learning_rate=0.1\n",
    "    data = np.genfromtxt('Power_train.csv', delimiter=',')\n",
    "    X=data[:,:-1]\n",
    "    Y=data[:,-1]\n",
    "    X_test = np.genfromtxt('Power_test.csv', delimiter=',')\n",
    "\n",
    "    scaler=StandardScaler()\n",
    "    scaler.fit(X)\n",
    "    X=scaler.transform(X)\n",
    "    X_test=scaler.transform(X_test)\n",
    "    X=np.append(X, np.ones(len(X), dtype='int').reshape(-1, 1), axis=1)\n",
    "    m,c=gd(X, Y, iterations, learning_rate)\n",
    "    N=len(X_test)\n",
    "    y_pred=np.array([0 for i in range(N)],dtype='float')\n",
    "    for i in range (N):\n",
    "        y_pred[i]+=np.sum(m*X_test[i])+c\n",
    "    print(y_pred)\n",
    "run()\n",
    "y_pred_me=y_pred"
   ]
  }
 ],
 "metadata": {
  "kernelspec": {
   "display_name": "Python 3 (ipykernel)",
   "language": "python",
   "name": "python3"
  },
  "language_info": {
   "codemirror_mode": {
    "name": "ipython",
    "version": 3
   },
   "file_extension": ".py",
   "mimetype": "text/x-python",
   "name": "python",
   "nbconvert_exporter": "python",
   "pygments_lexer": "ipython3",
   "version": "3.9.2"
  }
 },
 "nbformat": 4,
 "nbformat_minor": 5
}
